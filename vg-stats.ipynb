{
 "cells": [
  {
   "cell_type": "code",
   "execution_count": 1,
   "metadata": {
    "collapsed": true,
    "jupyter": {
     "outputs_hidden": true
    }
   },
   "outputs": [],
   "source": [
    "# df.info()"
   ]
  },
  {
   "cell_type": "code",
   "execution_count": 4,
   "metadata": {},
   "outputs": [
    {
     "output_type": "execute_result",
     "data": {
      "text/plain": [
       "pandas.core.frame.DataFrame"
      ]
     },
     "metadata": {},
     "execution_count": 4
    }
   ],
   "source": [
    "import pandas as pd\n",
    "\n",
    "df= pd.read_csv('./vgsales.csv')\n",
    "type(df)"
   ]
  },
  {
   "cell_type": "code",
   "execution_count": 5,
   "metadata": {},
   "outputs": [
    {
     "output_type": "execute_result",
     "data": {
      "text/plain": [
       "Electronic Arts    1351\n",
       "Name: Publisher, dtype: int64"
      ]
     },
     "metadata": {},
     "execution_count": 5
    }
   ],
   "source": [
    "df.Publisher.value_counts().head(1)"
   ]
  },
  {
   "cell_type": "code",
   "execution_count": 16,
   "metadata": {},
   "outputs": [
    {
     "output_type": "execute_result",
     "data": {
      "text/plain": [
       "DS    2163\n",
       "Name: Platform, dtype: int64"
      ]
     },
     "metadata": {},
     "execution_count": 16
    }
   ],
   "source": [
    "df.Platform.value_counts().head(1)"
   ]
  },
  {
   "cell_type": "code",
   "execution_count": 14,
   "metadata": {},
   "outputs": [
    {
     "output_type": "execute_result",
     "data": {
      "text/plain": [
       "'Action'"
      ]
     },
     "metadata": {},
     "execution_count": 14
    }
   ],
   "source": [
    "df.Genre.mode()[0]"
   ]
  },
  {
   "cell_type": "code",
   "execution_count": 8,
   "metadata": {
    "collapsed": true,
    "jupyter": {
     "outputs_hidden": true
    }
   },
   "outputs": [
    {
     "output_type": "execute_result",
     "data": {
      "text/plain": [
       "                                            Name  Global_Sales\n",
       "0                                     Wii Sports         82.74\n",
       "1                              Super Mario Bros.         40.24\n",
       "2                                 Mario Kart Wii         35.82\n",
       "3                              Wii Sports Resort         33.00\n",
       "4                       Pokemon Red/Pokemon Blue         31.37\n",
       "5                                         Tetris         30.26\n",
       "6                          New Super Mario Bros.         30.01\n",
       "7                                       Wii Play         29.02\n",
       "8                      New Super Mario Bros. Wii         28.62\n",
       "9                                      Duck Hunt         28.31\n",
       "10                                    Nintendogs         24.76\n",
       "11                                 Mario Kart DS         23.42\n",
       "12                   Pokemon Gold/Pokemon Silver         23.10\n",
       "13                                       Wii Fit         22.72\n",
       "14                                  Wii Fit Plus         22.00\n",
       "15                            Kinect Adventures!         21.82\n",
       "16                            Grand Theft Auto V         21.40\n",
       "17                 Grand Theft Auto: San Andreas         20.81\n",
       "18                             Super Mario World         20.61\n",
       "19  Brain Age: Train Your Brain in Minutes a Day         20.22"
      ],
      "text/html": "<div>\n<style scoped>\n    .dataframe tbody tr th:only-of-type {\n        vertical-align: middle;\n    }\n\n    .dataframe tbody tr th {\n        vertical-align: top;\n    }\n\n    .dataframe thead th {\n        text-align: right;\n    }\n</style>\n<table border=\"1\" class=\"dataframe\">\n  <thead>\n    <tr style=\"text-align: right;\">\n      <th></th>\n      <th>Name</th>\n      <th>Global_Sales</th>\n    </tr>\n  </thead>\n  <tbody>\n    <tr>\n      <th>0</th>\n      <td>Wii Sports</td>\n      <td>82.74</td>\n    </tr>\n    <tr>\n      <th>1</th>\n      <td>Super Mario Bros.</td>\n      <td>40.24</td>\n    </tr>\n    <tr>\n      <th>2</th>\n      <td>Mario Kart Wii</td>\n      <td>35.82</td>\n    </tr>\n    <tr>\n      <th>3</th>\n      <td>Wii Sports Resort</td>\n      <td>33.00</td>\n    </tr>\n    <tr>\n      <th>4</th>\n      <td>Pokemon Red/Pokemon Blue</td>\n      <td>31.37</td>\n    </tr>\n    <tr>\n      <th>5</th>\n      <td>Tetris</td>\n      <td>30.26</td>\n    </tr>\n    <tr>\n      <th>6</th>\n      <td>New Super Mario Bros.</td>\n      <td>30.01</td>\n    </tr>\n    <tr>\n      <th>7</th>\n      <td>Wii Play</td>\n      <td>29.02</td>\n    </tr>\n    <tr>\n      <th>8</th>\n      <td>New Super Mario Bros. Wii</td>\n      <td>28.62</td>\n    </tr>\n    <tr>\n      <th>9</th>\n      <td>Duck Hunt</td>\n      <td>28.31</td>\n    </tr>\n    <tr>\n      <th>10</th>\n      <td>Nintendogs</td>\n      <td>24.76</td>\n    </tr>\n    <tr>\n      <th>11</th>\n      <td>Mario Kart DS</td>\n      <td>23.42</td>\n    </tr>\n    <tr>\n      <th>12</th>\n      <td>Pokemon Gold/Pokemon Silver</td>\n      <td>23.10</td>\n    </tr>\n    <tr>\n      <th>13</th>\n      <td>Wii Fit</td>\n      <td>22.72</td>\n    </tr>\n    <tr>\n      <th>14</th>\n      <td>Wii Fit Plus</td>\n      <td>22.00</td>\n    </tr>\n    <tr>\n      <th>15</th>\n      <td>Kinect Adventures!</td>\n      <td>21.82</td>\n    </tr>\n    <tr>\n      <th>16</th>\n      <td>Grand Theft Auto V</td>\n      <td>21.40</td>\n    </tr>\n    <tr>\n      <th>17</th>\n      <td>Grand Theft Auto: San Andreas</td>\n      <td>20.81</td>\n    </tr>\n    <tr>\n      <th>18</th>\n      <td>Super Mario World</td>\n      <td>20.61</td>\n    </tr>\n    <tr>\n      <th>19</th>\n      <td>Brain Age: Train Your Brain in Minutes a Day</td>\n      <td>20.22</td>\n    </tr>\n  </tbody>\n</table>\n</div>"
     },
     "metadata": {},
     "execution_count": 8
    }
   ],
   "source": [
    "df.iloc[:20, [1,-1]]"
   ]
  },
  {
   "cell_type": "code",
   "execution_count": 9,
   "metadata": {},
   "outputs": [
    {
     "output_type": "execute_result",
     "data": {
      "text/plain": [
       "        Rank                                Name Platform    Year  \\\n",
       "9931    9933            Spider-Man: Edge of Time      3DS  2011.0   \n",
       "9934    9936                    Turok: Evolution      GBA  2002.0   \n",
       "9957    9959                            Deadpool     XOne  2015.0   \n",
       "9996    9998          GT Advance 2: Rally Racing      GBA  2001.0   \n",
       "10000  10002                      A Witch's Tale       DS  2009.0   \n",
       "10012  10014                   Nickelodeon Dance     X360  2011.0   \n",
       "10020  10022            Phantasy Star Collection      GBA  2002.0   \n",
       "10022  10024               LEGO Knights' Kingdom      GBA  2004.0   \n",
       "10024  10026  Family Game Night 4: The Game Show      PS3  2011.0   \n",
       "10026  10028                        NBA Jam 2002      GBA  2002.0   \n",
       "\n",
       "              Genre              Publisher  NA_Sales  EU_Sales  JP_Sales  \\\n",
       "9931         Action             Activision      0.08      0.03      0.00   \n",
       "9934        Shooter  Acclaim Entertainment      0.08      0.03      0.00   \n",
       "9957         Action             Activision      0.08      0.03      0.00   \n",
       "9996         Racing                    THQ      0.08      0.03      0.00   \n",
       "10000  Role-Playing   Nippon Ichi Software      0.08      0.00      0.03   \n",
       "10012          Misc   Take-Two Interactive      0.08      0.02      0.00   \n",
       "10020  Role-Playing                  Atari      0.08      0.03      0.00   \n",
       "10022        Action                    THQ      0.08      0.03      0.00   \n",
       "10024          Misc        Electronic Arts      0.08      0.02      0.00   \n",
       "10026        Sports  Acclaim Entertainment      0.08      0.03      0.00   \n",
       "\n",
       "       Other_Sales  Global_Sales  \n",
       "9931          0.01          0.12  \n",
       "9934          0.00          0.12  \n",
       "9957          0.01          0.12  \n",
       "9996          0.00          0.11  \n",
       "10000         0.01          0.11  \n",
       "10012         0.01          0.11  \n",
       "10020         0.00          0.11  \n",
       "10022         0.00          0.11  \n",
       "10024         0.01          0.11  \n",
       "10026         0.00          0.11  "
      ],
      "text/html": "<div>\n<style scoped>\n    .dataframe tbody tr th:only-of-type {\n        vertical-align: middle;\n    }\n\n    .dataframe tbody tr th {\n        vertical-align: top;\n    }\n\n    .dataframe thead th {\n        text-align: right;\n    }\n</style>\n<table border=\"1\" class=\"dataframe\">\n  <thead>\n    <tr style=\"text-align: right;\">\n      <th></th>\n      <th>Rank</th>\n      <th>Name</th>\n      <th>Platform</th>\n      <th>Year</th>\n      <th>Genre</th>\n      <th>Publisher</th>\n      <th>NA_Sales</th>\n      <th>EU_Sales</th>\n      <th>JP_Sales</th>\n      <th>Other_Sales</th>\n      <th>Global_Sales</th>\n    </tr>\n  </thead>\n  <tbody>\n    <tr>\n      <th>9931</th>\n      <td>9933</td>\n      <td>Spider-Man: Edge of Time</td>\n      <td>3DS</td>\n      <td>2011.0</td>\n      <td>Action</td>\n      <td>Activision</td>\n      <td>0.08</td>\n      <td>0.03</td>\n      <td>0.00</td>\n      <td>0.01</td>\n      <td>0.12</td>\n    </tr>\n    <tr>\n      <th>9934</th>\n      <td>9936</td>\n      <td>Turok: Evolution</td>\n      <td>GBA</td>\n      <td>2002.0</td>\n      <td>Shooter</td>\n      <td>Acclaim Entertainment</td>\n      <td>0.08</td>\n      <td>0.03</td>\n      <td>0.00</td>\n      <td>0.00</td>\n      <td>0.12</td>\n    </tr>\n    <tr>\n      <th>9957</th>\n      <td>9959</td>\n      <td>Deadpool</td>\n      <td>XOne</td>\n      <td>2015.0</td>\n      <td>Action</td>\n      <td>Activision</td>\n      <td>0.08</td>\n      <td>0.03</td>\n      <td>0.00</td>\n      <td>0.01</td>\n      <td>0.12</td>\n    </tr>\n    <tr>\n      <th>9996</th>\n      <td>9998</td>\n      <td>GT Advance 2: Rally Racing</td>\n      <td>GBA</td>\n      <td>2001.0</td>\n      <td>Racing</td>\n      <td>THQ</td>\n      <td>0.08</td>\n      <td>0.03</td>\n      <td>0.00</td>\n      <td>0.00</td>\n      <td>0.11</td>\n    </tr>\n    <tr>\n      <th>10000</th>\n      <td>10002</td>\n      <td>A Witch's Tale</td>\n      <td>DS</td>\n      <td>2009.0</td>\n      <td>Role-Playing</td>\n      <td>Nippon Ichi Software</td>\n      <td>0.08</td>\n      <td>0.00</td>\n      <td>0.03</td>\n      <td>0.01</td>\n      <td>0.11</td>\n    </tr>\n    <tr>\n      <th>10012</th>\n      <td>10014</td>\n      <td>Nickelodeon Dance</td>\n      <td>X360</td>\n      <td>2011.0</td>\n      <td>Misc</td>\n      <td>Take-Two Interactive</td>\n      <td>0.08</td>\n      <td>0.02</td>\n      <td>0.00</td>\n      <td>0.01</td>\n      <td>0.11</td>\n    </tr>\n    <tr>\n      <th>10020</th>\n      <td>10022</td>\n      <td>Phantasy Star Collection</td>\n      <td>GBA</td>\n      <td>2002.0</td>\n      <td>Role-Playing</td>\n      <td>Atari</td>\n      <td>0.08</td>\n      <td>0.03</td>\n      <td>0.00</td>\n      <td>0.00</td>\n      <td>0.11</td>\n    </tr>\n    <tr>\n      <th>10022</th>\n      <td>10024</td>\n      <td>LEGO Knights' Kingdom</td>\n      <td>GBA</td>\n      <td>2004.0</td>\n      <td>Action</td>\n      <td>THQ</td>\n      <td>0.08</td>\n      <td>0.03</td>\n      <td>0.00</td>\n      <td>0.00</td>\n      <td>0.11</td>\n    </tr>\n    <tr>\n      <th>10024</th>\n      <td>10026</td>\n      <td>Family Game Night 4: The Game Show</td>\n      <td>PS3</td>\n      <td>2011.0</td>\n      <td>Misc</td>\n      <td>Electronic Arts</td>\n      <td>0.08</td>\n      <td>0.02</td>\n      <td>0.00</td>\n      <td>0.01</td>\n      <td>0.11</td>\n    </tr>\n    <tr>\n      <th>10026</th>\n      <td>10028</td>\n      <td>NBA Jam 2002</td>\n      <td>GBA</td>\n      <td>2002.0</td>\n      <td>Sports</td>\n      <td>Acclaim Entertainment</td>\n      <td>0.08</td>\n      <td>0.03</td>\n      <td>0.00</td>\n      <td>0.00</td>\n      <td>0.11</td>\n    </tr>\n  </tbody>\n</table>\n</div>"
     },
     "metadata": {},
     "execution_count": 9
    }
   ],
   "source": [
    "median = df.NA_Sales.median()\n",
    "games = df[df['NA_Sales']==median]\n",
    "length= len(games)//2\n",
    "games[length-5:length+5]"
   ]
  },
  {
   "cell_type": "code",
   "execution_count": null,
   "metadata": {},
   "outputs": [],
   "source": []
  },
  {
   "cell_type": "code",
   "execution_count": 10,
   "metadata": {},
   "outputs": [
    {
     "output_type": "execute_result",
     "data": {
      "text/plain": [
       "50.80306374875828"
      ]
     },
     "metadata": {},
     "execution_count": 10
    }
   ],
   "source": [
    "standard = df.NA_Sales.std()\n",
    "top = df.NA_Sales.iloc[0]\n",
    "top / standard\n"
   ]
  },
  {
   "cell_type": "code",
   "execution_count": 11,
   "metadata": {},
   "outputs": [
    {
     "output_type": "stream",
     "name": "stdout",
     "text": [
      "0.6994037735849057\n0.5233896418516336\n"
     ]
    }
   ],
   "source": [
    "print(df[ df['Platform']=='Wii' ].Global_Sales.mean())\n",
    "print(df[ df['Platform']!='Wii' ].Global_Sales.mean())"
   ]
  },
  {
   "cell_type": "code",
   "execution_count": 17,
   "metadata": {},
   "outputs": [
    {
     "output_type": "execute_result",
     "data": {
      "text/plain": [
       "          Global_Sales\n",
       "Platform              \n",
       "PS2            1255.64\n",
       "X360            979.96\n",
       "PS3             957.84\n",
       "Wii             926.71\n",
       "DS              822.49\n",
       "PS              730.66\n",
       "GBA             318.50\n",
       "PSP             296.28\n",
       "PS4             278.10\n",
       "PC              258.82\n",
       "XB              258.26\n",
       "GB              255.45\n",
       "NES             251.07\n",
       "3DS             247.46\n",
       "N64             218.88\n",
       "SNES            200.05\n",
       "GC              199.36\n",
       "XOne            141.06\n",
       "2600             97.08\n",
       "WiiU             81.86\n",
       "PSV              61.93\n",
       "SAT              33.59\n",
       "GEN              28.36\n",
       "DC               15.97\n",
       "SCD               1.87\n",
       "NG                1.44\n",
       "WS                1.42\n",
       "TG16              0.16\n",
       "3DO               0.10\n",
       "GG                0.04\n",
       "PCFX              0.03"
      ],
      "text/html": "<div>\n<style scoped>\n    .dataframe tbody tr th:only-of-type {\n        vertical-align: middle;\n    }\n\n    .dataframe tbody tr th {\n        vertical-align: top;\n    }\n\n    .dataframe thead th {\n        text-align: right;\n    }\n</style>\n<table border=\"1\" class=\"dataframe\">\n  <thead>\n    <tr style=\"text-align: right;\">\n      <th></th>\n      <th>Global_Sales</th>\n    </tr>\n    <tr>\n      <th>Platform</th>\n      <th></th>\n    </tr>\n  </thead>\n  <tbody>\n    <tr>\n      <th>PS2</th>\n      <td>1255.64</td>\n    </tr>\n    <tr>\n      <th>X360</th>\n      <td>979.96</td>\n    </tr>\n    <tr>\n      <th>PS3</th>\n      <td>957.84</td>\n    </tr>\n    <tr>\n      <th>Wii</th>\n      <td>926.71</td>\n    </tr>\n    <tr>\n      <th>DS</th>\n      <td>822.49</td>\n    </tr>\n    <tr>\n      <th>PS</th>\n      <td>730.66</td>\n    </tr>\n    <tr>\n      <th>GBA</th>\n      <td>318.50</td>\n    </tr>\n    <tr>\n      <th>PSP</th>\n      <td>296.28</td>\n    </tr>\n    <tr>\n      <th>PS4</th>\n      <td>278.10</td>\n    </tr>\n    <tr>\n      <th>PC</th>\n      <td>258.82</td>\n    </tr>\n    <tr>\n      <th>XB</th>\n      <td>258.26</td>\n    </tr>\n    <tr>\n      <th>GB</th>\n      <td>255.45</td>\n    </tr>\n    <tr>\n      <th>NES</th>\n      <td>251.07</td>\n    </tr>\n    <tr>\n      <th>3DS</th>\n      <td>247.46</td>\n    </tr>\n    <tr>\n      <th>N64</th>\n      <td>218.88</td>\n    </tr>\n    <tr>\n      <th>SNES</th>\n      <td>200.05</td>\n    </tr>\n    <tr>\n      <th>GC</th>\n      <td>199.36</td>\n    </tr>\n    <tr>\n      <th>XOne</th>\n      <td>141.06</td>\n    </tr>\n    <tr>\n      <th>2600</th>\n      <td>97.08</td>\n    </tr>\n    <tr>\n      <th>WiiU</th>\n      <td>81.86</td>\n    </tr>\n    <tr>\n      <th>PSV</th>\n      <td>61.93</td>\n    </tr>\n    <tr>\n      <th>SAT</th>\n      <td>33.59</td>\n    </tr>\n    <tr>\n      <th>GEN</th>\n      <td>28.36</td>\n    </tr>\n    <tr>\n      <th>DC</th>\n      <td>15.97</td>\n    </tr>\n    <tr>\n      <th>SCD</th>\n      <td>1.87</td>\n    </tr>\n    <tr>\n      <th>NG</th>\n      <td>1.44</td>\n    </tr>\n    <tr>\n      <th>WS</th>\n      <td>1.42</td>\n    </tr>\n    <tr>\n      <th>TG16</th>\n      <td>0.16</td>\n    </tr>\n    <tr>\n      <th>3DO</th>\n      <td>0.10</td>\n    </tr>\n    <tr>\n      <th>GG</th>\n      <td>0.04</td>\n    </tr>\n    <tr>\n      <th>PCFX</th>\n      <td>0.03</td>\n    </tr>\n  </tbody>\n</table>\n</div>"
     },
     "metadata": {},
     "execution_count": 17
    }
   ],
   "source": [
    "df[['Platform', 'Global_Sales']].groupby('Platform').sum().sort_values('Global_Sales',ascending=False)"
   ]
  },
  {
   "cell_type": "code",
   "execution_count": 18,
   "metadata": {},
   "outputs": [
    {
     "output_type": "execute_result",
     "data": {
      "text/plain": [
       "          JP_Sales\n",
       "Platform          \n",
       "DS          175.57\n",
       "PS          139.82\n",
       "PS2         139.20\n",
       "SNES        116.55\n",
       "NES          98.65\n",
       "3DS          97.35\n",
       "GB           85.12\n",
       "PS3          79.99\n",
       "PSP          76.79\n",
       "Wii          69.35\n",
       "GBA          47.33\n",
       "N64          34.22\n",
       "SAT          32.26\n",
       "GC           21.58\n",
       "PSV          20.96\n",
       "PS4          14.30\n",
       "WiiU         12.79\n",
       "X360         12.43\n",
       "DC            8.56\n",
       "GEN           2.67\n",
       "NG            1.44\n",
       "WS            1.42\n",
       "XB            1.38\n",
       "SCD           0.45\n",
       "XOne          0.34\n",
       "PC            0.17\n",
       "TG16          0.16\n",
       "3DO           0.10\n",
       "GG            0.04\n",
       "PCFX          0.03\n",
       "2600          0.00"
      ],
      "text/html": "<div>\n<style scoped>\n    .dataframe tbody tr th:only-of-type {\n        vertical-align: middle;\n    }\n\n    .dataframe tbody tr th {\n        vertical-align: top;\n    }\n\n    .dataframe thead th {\n        text-align: right;\n    }\n</style>\n<table border=\"1\" class=\"dataframe\">\n  <thead>\n    <tr style=\"text-align: right;\">\n      <th></th>\n      <th>JP_Sales</th>\n    </tr>\n    <tr>\n      <th>Platform</th>\n      <th></th>\n    </tr>\n  </thead>\n  <tbody>\n    <tr>\n      <th>DS</th>\n      <td>175.57</td>\n    </tr>\n    <tr>\n      <th>PS</th>\n      <td>139.82</td>\n    </tr>\n    <tr>\n      <th>PS2</th>\n      <td>139.20</td>\n    </tr>\n    <tr>\n      <th>SNES</th>\n      <td>116.55</td>\n    </tr>\n    <tr>\n      <th>NES</th>\n      <td>98.65</td>\n    </tr>\n    <tr>\n      <th>3DS</th>\n      <td>97.35</td>\n    </tr>\n    <tr>\n      <th>GB</th>\n      <td>85.12</td>\n    </tr>\n    <tr>\n      <th>PS3</th>\n      <td>79.99</td>\n    </tr>\n    <tr>\n      <th>PSP</th>\n      <td>76.79</td>\n    </tr>\n    <tr>\n      <th>Wii</th>\n      <td>69.35</td>\n    </tr>\n    <tr>\n      <th>GBA</th>\n      <td>47.33</td>\n    </tr>\n    <tr>\n      <th>N64</th>\n      <td>34.22</td>\n    </tr>\n    <tr>\n      <th>SAT</th>\n      <td>32.26</td>\n    </tr>\n    <tr>\n      <th>GC</th>\n      <td>21.58</td>\n    </tr>\n    <tr>\n      <th>PSV</th>\n      <td>20.96</td>\n    </tr>\n    <tr>\n      <th>PS4</th>\n      <td>14.30</td>\n    </tr>\n    <tr>\n      <th>WiiU</th>\n      <td>12.79</td>\n    </tr>\n    <tr>\n      <th>X360</th>\n      <td>12.43</td>\n    </tr>\n    <tr>\n      <th>DC</th>\n      <td>8.56</td>\n    </tr>\n    <tr>\n      <th>GEN</th>\n      <td>2.67</td>\n    </tr>\n    <tr>\n      <th>NG</th>\n      <td>1.44</td>\n    </tr>\n    <tr>\n      <th>WS</th>\n      <td>1.42</td>\n    </tr>\n    <tr>\n      <th>XB</th>\n      <td>1.38</td>\n    </tr>\n    <tr>\n      <th>SCD</th>\n      <td>0.45</td>\n    </tr>\n    <tr>\n      <th>XOne</th>\n      <td>0.34</td>\n    </tr>\n    <tr>\n      <th>PC</th>\n      <td>0.17</td>\n    </tr>\n    <tr>\n      <th>TG16</th>\n      <td>0.16</td>\n    </tr>\n    <tr>\n      <th>3DO</th>\n      <td>0.10</td>\n    </tr>\n    <tr>\n      <th>GG</th>\n      <td>0.04</td>\n    </tr>\n    <tr>\n      <th>PCFX</th>\n      <td>0.03</td>\n    </tr>\n    <tr>\n      <th>2600</th>\n      <td>0.00</td>\n    </tr>\n  </tbody>\n</table>\n</div>"
     },
     "metadata": {},
     "execution_count": 18
    }
   ],
   "source": [
    "df[['Platform', 'JP_Sales']].groupby('Platform').sum().sort_values('JP_Sales',ascending=False)"
   ]
  },
  {
   "cell_type": "code",
   "execution_count": 19,
   "metadata": {},
   "outputs": [
    {
     "output_type": "execute_result",
     "data": {
      "text/plain": [
       "1786.5600000000002"
      ]
     },
     "metadata": {},
     "execution_count": 19
    }
   ],
   "source": [
    "df[df['Publisher']=='Nintendo'].Global_Sales.sum()"
   ]
  },
  {
   "cell_type": "code",
   "execution_count": null,
   "metadata": {},
   "outputs": [],
   "source": []
  }
 ],
 "metadata": {
  "kernelspec": {
   "display_name": "Python 3",
   "language": "python",
   "name": "python3"
  },
  "language_info": {
   "codemirror_mode": {
    "name": "ipython",
    "version": 3
   },
   "file_extension": ".py",
   "mimetype": "text/x-python",
   "name": "python",
   "nbconvert_exporter": "python",
   "pygments_lexer": "ipython3",
   "version": "3.9.0-final"
  }
 },
 "nbformat": 4,
 "nbformat_minor": 4
}