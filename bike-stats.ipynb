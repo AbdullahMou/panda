{
 "cells": [
  {
   "cell_type": "code",
   "execution_count": 2,
   "metadata": {},
   "outputs": [
    {
     "output_type": "stream",
     "name": "stderr",
     "text": [
      "b'Skipping line 50794: expected 12 fields, saw 20\\n'\n"
     ]
    }
   ],
   "source": [
    "import pandas as pd\n",
    "df= pd.read_csv('station.csv')\n",
    "# df1= pd.read_csv('/home/abdullah/panda-stats/vg-stats/trip.csv')\n",
    "df1 = pd.read_csv('trip.csv',error_bad_lines = False)\n",
    "df2= pd.read_csv('weather.csv')\n",
    "\n",
    "# df.info()"
   ]
  },
  {
   "cell_type": "code",
   "execution_count": 3,
   "metadata": {},
   "outputs": [],
   "source": [
    "# df1.info()"
   ]
  },
  {
   "cell_type": "code",
   "execution_count": 4,
   "metadata": {},
   "outputs": [],
   "source": [
    "# df2.info()"
   ]
  },
  {
   "cell_type": "code",
   "execution_count": 5,
   "metadata": {},
   "outputs": [
    {
     "output_type": "execute_result",
     "data": {
      "text/plain": [
       "1178.2956753399776"
      ]
     },
     "metadata": {},
     "execution_count": 5
    }
   ],
   "source": [
    "df1.tripduration.mean()"
   ]
  },
  {
   "cell_type": "code",
   "execution_count": 6,
   "metadata": {},
   "outputs": [
    {
     "output_type": "execute_result",
     "data": {
      "text/plain": [
       "33.0"
      ]
     },
     "metadata": {},
     "execution_count": 6
    }
   ],
   "source": [
    "2020-df1.birthyear.value_counts().idxmax()"
   ]
  },
  {
   "cell_type": "code",
   "execution_count": 7,
   "metadata": {},
   "outputs": [
    {
     "output_type": "execute_result",
     "data": {
      "text/plain": [
       "month\n",
       "1     0.143548\n",
       "2     0.168421\n",
       "3     0.156935\n",
       "4     0.051333\n",
       "5     0.012419\n",
       "6     0.030500\n",
       "7     0.012097\n",
       "8     0.018226\n",
       "9     0.041000\n",
       "10    0.189000\n",
       "11    0.187833\n",
       "12    0.236290\n",
       "Name: Precipitation_In, dtype: float64"
      ]
     },
     "metadata": {},
     "execution_count": 7
    }
   ],
   "source": [
    "df2['month'] = pd.DatetimeIndex(df2['Date']).month\n",
    "\n",
    "df2.groupby(['month'])['Precipitation_In'].mean()"
   ]
  },
  {
   "cell_type": "code",
   "execution_count": 11,
   "metadata": {},
   "outputs": [
    {
     "output_type": "execute_result",
     "data": {
      "text/plain": [
       "month\n",
       "1     0.020\n",
       "2     0.040\n",
       "3     0.025\n",
       "4     0.000\n",
       "5     0.000\n",
       "6     0.000\n",
       "7     0.000\n",
       "8     0.000\n",
       "9     0.000\n",
       "10    0.040\n",
       "11    0.035\n",
       "12    0.100\n",
       "Name: Precipitation_In, dtype: float64"
      ]
     },
     "metadata": {},
     "execution_count": 11
    }
   ],
   "source": [
    "df2.groupby(['month'])['Precipitation_In'].median()\n"
   ]
  },
  {
   "cell_type": "code",
   "execution_count": 9,
   "metadata": {},
   "outputs": [
    {
     "output_type": "execute_result",
     "data": {
      "text/plain": [
       "17.586206896551722"
      ]
     },
     "metadata": {},
     "execution_count": 9
    }
   ],
   "source": [
    "df.install_dockcount.mean()"
   ]
  },
  {
   "cell_type": "code",
   "execution_count": 10,
   "metadata": {},
   "outputs": [
    {
     "output_type": "execute_result",
     "data": {
      "text/plain": [
       "-64"
      ]
     },
     "metadata": {},
     "execution_count": 10
    }
   ],
   "source": [
    "modified_station = df.install_dockcount.sum() - df.current_dockcount.sum()\n",
    "modified_station = df[['install_dockcount','current_dockcount','modification_date']].dropna()\n",
    "modified_station.current_dockcount.sum() - modified_station.install_dockcount.sum()\n"
   ]
  },
  {
   "cell_type": "code",
   "execution_count": null,
   "metadata": {},
   "outputs": [],
   "source": []
  }
 ],
 "metadata": {
  "kernelspec": {
   "display_name": "Python 3",
   "language": "python",
   "name": "python3"
  },
  "language_info": {
   "codemirror_mode": {
    "name": "ipython",
    "version": 3
   },
   "file_extension": ".py",
   "mimetype": "text/x-python",
   "name": "python",
   "nbconvert_exporter": "python",
   "pygments_lexer": "ipython3",
   "version": "3.9.0-final"
  }
 },
 "nbformat": 4,
 "nbformat_minor": 4
}